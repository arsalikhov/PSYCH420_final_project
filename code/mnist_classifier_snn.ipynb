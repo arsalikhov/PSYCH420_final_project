{
 "cells": [
  {
   "cell_type": "code",
   "execution_count": 1,
   "metadata": {},
   "outputs": [],
   "source": [
    "# imports\n",
    "import snntorch as snn\n",
    "from snntorch import surrogate\n",
    "from snntorch import backprop\n",
    "from snntorch import functional as SF\n",
    "from snntorch import utils\n",
    "from snntorch import spikeplot as splt\n",
    "\n",
    "import torch\n",
    "import torch.nn as nn\n",
    "from torch.utils.data import DataLoader\n",
    "from torchvision import datasets, transforms\n",
    "import torch.nn.functional as F\n",
    "\n",
    "import matplotlib.pyplot as plt\n",
    "import numpy as np\n",
    "import itertools"
   ]
  },
  {
   "cell_type": "code",
   "execution_count": 2,
   "metadata": {},
   "outputs": [],
   "source": [
    "torch.cuda.empty_cache() "
   ]
  },
  {
   "cell_type": "code",
   "execution_count": 3,
   "metadata": {},
   "outputs": [],
   "source": [
    "batch_size = 128\n",
    "data_path='/home/arsalikhov/Documents/PSYCH420_final_project/mnist'\n",
    "subset=10\n",
    "\n",
    "dtype = torch.float\n",
    "device = torch.device(\"cuda\") if torch.cuda.is_available() else torch.device(\"cpu\")"
   ]
  },
  {
   "cell_type": "code",
   "execution_count": 4,
   "metadata": {},
   "outputs": [],
   "source": [
    "transform = transforms.Compose([\n",
    "            transforms.Resize((28, 28)),\n",
    "            transforms.Grayscale(),\n",
    "            transforms.ToTensor(),\n",
    "            transforms.Normalize((0,), (1,))])\n",
    "\n",
    "mnist_train = datasets.MNIST(data_path, train=True, download=True, transform=transform)\n",
    "mnist_test = datasets.MNIST(data_path, train=False, download=True, transform=transform)\n",
    "\n",
    "# reduce datasets by 10x to speed up training\n",
    "utils.data_subset(mnist_train, subset)\n",
    "utils.data_subset(mnist_test, subset)\n",
    "\n",
    "# Create DataLoaders\n",
    "train_loader = DataLoader(mnist_train, batch_size=batch_size, shuffle=True, drop_last=True)\n",
    "test_loader = DataLoader(mnist_test, batch_size=batch_size, shuffle=True, drop_last=True)"
   ]
  },
  {
   "cell_type": "code",
   "execution_count": 5,
   "metadata": {},
   "outputs": [],
   "source": [
    "# neuron and simulation parameters\n",
    "spike_grad = surrogate.fast_sigmoid(slope=25)\n",
    "beta = 0.95\n",
    "num_steps = 50"
   ]
  },
  {
   "cell_type": "code",
   "execution_count": 6,
   "metadata": {},
   "outputs": [],
   "source": [
    "class Network(nn.Module):\n",
    "    def __init__(self, in_features=1, classes=10):\n",
    "        super().__init__()\n",
    "        self.encoder = nn.Sequential(\n",
    "            nn.Conv2d(in_features, 32, kernel_size=3),\n",
    "            snn.Leaky(beta=beta, spike_grad=spike_grad, init_hidden=True),\n",
    "            nn.BatchNorm2d(32),\n",
    "            nn.MaxPool2d(2, stride=2),\n",
    "            nn.Conv2d(32, 64, kernel_size=3),\n",
    "            snn.Leaky(beta=beta, spike_grad=spike_grad, init_hidden=True),\n",
    "            nn.BatchNorm2d(64),\n",
    "            nn.MaxPool2d(2, stride=2),\n",
    "            nn.Conv2d(64, 128, kernel_size=3),\n",
    "            snn.Leaky(beta=beta, spike_grad=spike_grad, init_hidden=True),\n",
    "            nn.BatchNorm2d(128),\n",
    "            nn.MaxPool2d(2, stride=2),\n",
    "            nn.AdaptiveAvgPool2d((1, 1))\n",
    "        )\n",
    "\n",
    "        self.decoder = nn.Sequential(\n",
    "            nn.Flatten(1),\n",
    "            nn.Linear(128, classes),\n",
    "            snn.Leaky(beta=beta, spike_grad=spike_grad, init_hidden=True, output=True))\n",
    "\n",
    "    def forward(self, data):\n",
    "\n",
    "        spk_out = self.encoder(data)\n",
    "        spk_out, mem_out = self.decoder(spk_out)\n",
    "\n",
    "        return spk_out, mem_out\n"
   ]
  },
  {
   "cell_type": "code",
   "execution_count": 7,
   "metadata": {},
   "outputs": [],
   "source": [
    "def forward_pass(net,  data):\n",
    "    spk_rec = []\n",
    "    utils.reset(net)\n",
    "\n",
    "    for step in range(data.size(0)):\n",
    "        spk_out, mem_out = net(data)\n",
    "        spk_rec.append(spk_out)\n",
    "    return torch.stack(spk_rec)\n"
   ]
  },
  {
   "cell_type": "code",
   "execution_count": 8,
   "metadata": {},
   "outputs": [],
   "source": [
    "net = Network(1, 10).to(device)"
   ]
  },
  {
   "cell_type": "code",
   "execution_count": 9,
   "metadata": {},
   "outputs": [],
   "source": [
    "loss_fn = SF.mse_count_loss(correct_rate=0.8, incorrect_rate=0.2)\n",
    "optimizer = torch.optim.Adam(net.parameters(), lr=1e-2, betas=(0.9, 0.999))\n",
    "criterion = nn.CrossEntropyLoss()"
   ]
  },
  {
   "cell_type": "code",
   "execution_count": 10,
   "metadata": {},
   "outputs": [
    {
     "ename": "UnboundLocalError",
     "evalue": "local variable 'spk' referenced before assignment",
     "output_type": "error",
     "traceback": [
      "\u001b[0;31m---------------------------------------------------------------------------\u001b[0m",
      "\u001b[0;31mUnboundLocalError\u001b[0m                         Traceback (most recent call last)",
      "\u001b[1;32m/home/arsalikhov/Documents/PSYCH420_final_project/code/mnist_classifier_snn.ipynb Cell 10'\u001b[0m in \u001b[0;36m<cell line: 10>\u001b[0;34m()\u001b[0m\n\u001b[1;32m     <a href='vscode-notebook-cell:/home/arsalikhov/Documents/PSYCH420_final_project/code/mnist_classifier_snn.ipynb#ch0000016?line=19'>20</a>\u001b[0m \u001b[39m# Gradient calculation + weight update\u001b[39;00m\n\u001b[1;32m     <a href='vscode-notebook-cell:/home/arsalikhov/Documents/PSYCH420_final_project/code/mnist_classifier_snn.ipynb#ch0000016?line=21'>22</a>\u001b[0m optimizer\u001b[39m.\u001b[39mzero_grad()\n\u001b[0;32m---> <a href='vscode-notebook-cell:/home/arsalikhov/Documents/PSYCH420_final_project/code/mnist_classifier_snn.ipynb#ch0000016?line=22'>23</a>\u001b[0m loss \u001b[39m=\u001b[39m backprop\u001b[39m.\u001b[39;49mBPTT(net, train_loader, optimizer\u001b[39m=\u001b[39;49moptimizer, criterion\u001b[39m=\u001b[39;49mloss_fn, time_var\u001b[39m=\u001b[39;49m\u001b[39mTrue\u001b[39;49;00m, device\u001b[39m=\u001b[39;49mdevice)\n\u001b[1;32m     <a href='vscode-notebook-cell:/home/arsalikhov/Documents/PSYCH420_final_project/code/mnist_classifier_snn.ipynb#ch0000016?line=23'>24</a>\u001b[0m optimizer\u001b[39m.\u001b[39mstep()\n\u001b[1;32m     <a href='vscode-notebook-cell:/home/arsalikhov/Documents/PSYCH420_final_project/code/mnist_classifier_snn.ipynb#ch0000016?line=25'>26</a>\u001b[0m \u001b[39m# Store loss history for future plotting\u001b[39;00m\n",
      "File \u001b[0;32m~/.local/lib/python3.8/site-packages/snntorch/backprop.py:425\u001b[0m, in \u001b[0;36mBPTT\u001b[0;34m(net, dataloader, optimizer, criterion, num_steps, time_var, time_first, regularization, device)\u001b[0m\n\u001b[1;32m    <a href='file:///home/arsalikhov/.local/lib/python3.8/site-packages/snntorch/backprop.py?line=352'>353</a>\u001b[0m \u001b[39m\"\"\"Backpropagation through time. LIF layers require parameter ``init_hidden = True``.\u001b[39;00m\n\u001b[1;32m    <a href='file:///home/arsalikhov/.local/lib/python3.8/site-packages/snntorch/backprop.py?line=353'>354</a>\u001b[0m \u001b[39mA forward pass is applied for each time step while the loss accumulates. The backward pass and parameter update is only applied at the end of each time step sequence.\u001b[39;00m\n\u001b[1;32m    <a href='file:///home/arsalikhov/.local/lib/python3.8/site-packages/snntorch/backprop.py?line=354'>355</a>\u001b[0m \u001b[39mBPTT is equivalent to TBPTT for the case where ``num_steps = K``.\u001b[39;00m\n\u001b[0;32m   (...)\u001b[0m\n\u001b[1;32m    <a href='file:///home/arsalikhov/.local/lib/python3.8/site-packages/snntorch/backprop.py?line=420'>421</a>\u001b[0m \u001b[39m:rtype: torch.Tensor\u001b[39;00m\n\u001b[1;32m    <a href='file:///home/arsalikhov/.local/lib/python3.8/site-packages/snntorch/backprop.py?line=421'>422</a>\u001b[0m \u001b[39m\"\"\"\u001b[39;00m\n\u001b[1;32m    <a href='file:///home/arsalikhov/.local/lib/python3.8/site-packages/snntorch/backprop.py?line=423'>424</a>\u001b[0m \u001b[39m#  Net requires hidden instance variables rather than global instance variables for TBPTT\u001b[39;00m\n\u001b[0;32m--> <a href='file:///home/arsalikhov/.local/lib/python3.8/site-packages/snntorch/backprop.py?line=424'>425</a>\u001b[0m \u001b[39mreturn\u001b[39;00m TBPTT(\n\u001b[1;32m    <a href='file:///home/arsalikhov/.local/lib/python3.8/site-packages/snntorch/backprop.py?line=425'>426</a>\u001b[0m     net,\n\u001b[1;32m    <a href='file:///home/arsalikhov/.local/lib/python3.8/site-packages/snntorch/backprop.py?line=426'>427</a>\u001b[0m     dataloader,\n\u001b[1;32m    <a href='file:///home/arsalikhov/.local/lib/python3.8/site-packages/snntorch/backprop.py?line=427'>428</a>\u001b[0m     optimizer,\n\u001b[1;32m    <a href='file:///home/arsalikhov/.local/lib/python3.8/site-packages/snntorch/backprop.py?line=428'>429</a>\u001b[0m     criterion,\n\u001b[1;32m    <a href='file:///home/arsalikhov/.local/lib/python3.8/site-packages/snntorch/backprop.py?line=429'>430</a>\u001b[0m     num_steps,\n\u001b[1;32m    <a href='file:///home/arsalikhov/.local/lib/python3.8/site-packages/snntorch/backprop.py?line=430'>431</a>\u001b[0m     time_var,\n\u001b[1;32m    <a href='file:///home/arsalikhov/.local/lib/python3.8/site-packages/snntorch/backprop.py?line=431'>432</a>\u001b[0m     time_first,\n\u001b[1;32m    <a href='file:///home/arsalikhov/.local/lib/python3.8/site-packages/snntorch/backprop.py?line=432'>433</a>\u001b[0m     regularization,\n\u001b[1;32m    <a href='file:///home/arsalikhov/.local/lib/python3.8/site-packages/snntorch/backprop.py?line=433'>434</a>\u001b[0m     device,\n\u001b[1;32m    <a href='file:///home/arsalikhov/.local/lib/python3.8/site-packages/snntorch/backprop.py?line=434'>435</a>\u001b[0m     K\u001b[39m=\u001b[39;49mnum_steps,\n\u001b[1;32m    <a href='file:///home/arsalikhov/.local/lib/python3.8/site-packages/snntorch/backprop.py?line=435'>436</a>\u001b[0m )\n",
      "File \u001b[0;32m~/.local/lib/python3.8/site-packages/snntorch/backprop.py:238\u001b[0m, in \u001b[0;36mTBPTT\u001b[0;34m(net, dataloader, optimizer, criterion, num_steps, time_var, time_first, regularization, device, K)\u001b[0m\n\u001b[1;32m    <a href='file:///home/arsalikhov/.local/lib/python3.8/site-packages/snntorch/backprop.py?line=228'>229</a>\u001b[0m         spk, _, _, mem \u001b[39m=\u001b[39m net(data)\n\u001b[1;32m    <a href='file:///home/arsalikhov/.local/lib/python3.8/site-packages/snntorch/backprop.py?line=230'>231</a>\u001b[0m \u001b[39m# else:  # assume not an snn.Layer returning 1 val\u001b[39;00m\n\u001b[1;32m    <a href='file:///home/arsalikhov/.local/lib/python3.8/site-packages/snntorch/backprop.py?line=231'>232</a>\u001b[0m \u001b[39m#     if time_var:\u001b[39;00m\n\u001b[1;32m    <a href='file:///home/arsalikhov/.local/lib/python3.8/site-packages/snntorch/backprop.py?line=232'>233</a>\u001b[0m \u001b[39m#         spk = net(data[step])\u001b[39;00m\n\u001b[1;32m    <a href='file:///home/arsalikhov/.local/lib/python3.8/site-packages/snntorch/backprop.py?line=233'>234</a>\u001b[0m \u001b[39m#     else:\u001b[39;00m\n\u001b[1;32m    <a href='file:///home/arsalikhov/.local/lib/python3.8/site-packages/snntorch/backprop.py?line=234'>235</a>\u001b[0m \u001b[39m#         spk = net(data)\u001b[39;00m\n\u001b[1;32m    <a href='file:///home/arsalikhov/.local/lib/python3.8/site-packages/snntorch/backprop.py?line=235'>236</a>\u001b[0m \u001b[39m#     spk_rec.append(spk)\u001b[39;00m\n\u001b[0;32m--> <a href='file:///home/arsalikhov/.local/lib/python3.8/site-packages/snntorch/backprop.py?line=237'>238</a>\u001b[0m spk_rec_trunc\u001b[39m.\u001b[39mappend(spk)\n\u001b[1;32m    <a href='file:///home/arsalikhov/.local/lib/python3.8/site-packages/snntorch/backprop.py?line=238'>239</a>\u001b[0m mem_rec_trunc\u001b[39m.\u001b[39mappend(mem)\n\u001b[1;32m    <a href='file:///home/arsalikhov/.local/lib/python3.8/site-packages/snntorch/backprop.py?line=240'>241</a>\u001b[0m step_trunc \u001b[39m+\u001b[39m\u001b[39m=\u001b[39m \u001b[39m1\u001b[39m\n",
      "\u001b[0;31mUnboundLocalError\u001b[0m: local variable 'spk' referenced before assignment"
     ]
    }
   ],
   "source": [
    "\n",
    "num_epochs = 1\n",
    "num_iters = 50\n",
    "\n",
    "test_acc_hist = []\n",
    "\n",
    "loss_hist = []\n",
    "acc_hist = []\n",
    "\n",
    "# training loop\n",
    "for epoch in range(num_epochs):\n",
    "\n",
    "    for i, (data, targets) in enumerate(iter(train_loader)):\n",
    "        data = data.to(device)\n",
    "        targets = targets.to(device)\n",
    "\n",
    "        net.train()\n",
    "        spk_rec = forward_pass(net, data)\n",
    "        loss_val = loss_fn(spk_rec, targets)\n",
    "\n",
    "        # Gradient calculation + weight update\n",
    "\n",
    "        optimizer.zero_grad()\n",
    "        loss = backprop.BPTT(net, train_loader, optimizer=optimizer, criterion=loss_fn, time_var=True, device=device)\n",
    "        optimizer.step()\n",
    "\n",
    "        # Store loss history for future plotting\n",
    "        loss_hist.append(loss)\n",
    "\n",
    "        print(f\"Epoch {epoch}, Iteration {i} \\nTrain Loss: {loss.item():.2f}\")\n",
    "\n",
    "        acc = SF.accuracy_rate(spk_rec, targets)\n",
    "  \n",
    "        acc_hist.append(acc)\n",
    "        print(f\"Accuracy: {acc * 100:.2f}%\\n\")\n",
    "\n",
    "        # training loop breaks after 50 iterations\n",
    "        if i == num_iters:\n",
    "          break\n"
   ]
  },
  {
   "cell_type": "markdown",
   "metadata": {},
   "source": []
  },
  {
   "cell_type": "code",
   "execution_count": null,
   "metadata": {},
   "outputs": [
    {
     "data": {
      "image/png": "[encoded data removed]",
      "text/plain": [
       "<Figure size 432x288 with 1 Axes>"
      ]
     },
     "metadata": {},
     "output_type": "display_data"
    }
   ],
   "source": [
    "fig = plt.figure(facecolor=\"gray\")\n",
    "plt.plot(test_acc_hist)\n",
    "plt.title(\"Test Set Accuracy\")\n",
    "plt.xlabel(\"Epoch\")\n",
    "plt.ylabel(\"Accuracy\")\n",
    "plt.show()"
   ]
  },
  {
   "cell_type": "code",
   "execution_count": null,
   "metadata": {},
   "outputs": [],
   "source": []
  }
 ],
 "metadata": {
  "interpreter": {
   "hash": "b62d0206b570d77ef1bfa49bb04057592ebbd6080402d9290ba5af22960e1b27"
  },
  "kernelspec": {
   "display_name": "Python 3.8.12 ('base')",
   "language": "python",
   "name": "python3"
  },
  "language_info": {
   "codemirror_mode": {
    "name": "ipython",
    "version": 3
   },
   "file_extension": ".py",
   "mimetype": "text/x-python",
   "name": "python",
   "nbconvert_exporter": "python",
   "pygments_lexer": "ipython3",
   "version": "3.8.12"
  },
  "orig_nbformat": 4
 },
 "nbformat": 4,
 "nbformat_minor": 2
}
